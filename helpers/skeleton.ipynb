{
 "cells": [
  {
   "cell_type": "markdown",
   "id": "bc07192f-78b2-4038-ac37-ad23d1e78263",
   "metadata": {},
   "source": [
    "# Skeleton notebook:\n",
    "\n",
    "- Imports the usual suspects\n",
    "- Imports helper functions\n",
    "- Performs typical figure set up\n",
    "\n",
    "## Setup: Imports"
   ]
  },
  {
   "cell_type": "code",
   "execution_count": 2,
   "id": "c381cc8f-b5f0-441e-b633-c628d7264bb5",
   "metadata": {},
   "outputs": [],
   "source": [
    "# netcdf/numpy/xray/stats\n",
    "import numpy as np\n",
    "import xarray as xr\n",
    "import scipy\n",
    "import pandas as pd\n",
    "import copy\n",
    "\n",
    "# OS interaction\n",
    "import os\n",
    "import sys\n",
    "\n",
    "# import plotting\n",
    "import seaborn as sns\n",
    "import matplotlib\n",
    "import matplotlib.pyplot as plt\n",
    "from mpl_toolkits.axes_grid1.inset_locator import inset_axes\n",
    "from matplotlib.dates import DateFormatter\n",
    "import seaborn as sns\n",
    "\n",
    "# Ignore divide by zero\n",
    "import warnings\n",
    "warnings.filterwarnings(\"ignore\")"
   ]
  },
  {
   "cell_type": "markdown",
   "id": "32431ea5-52ee-495b-9187-55a94aabfc90",
   "metadata": {},
   "source": [
    "## Setup: helper functions"
   ]
  },
  {
   "cell_type": "code",
   "execution_count": 3,
   "id": "21cbd7ab-1e03-4809-90c3-7252b61106d3",
   "metadata": {},
   "outputs": [],
   "source": [
    "# Relative path to my helpers\n",
    "sys.path.append('.')\n",
    "import get_project_path\n",
    "dir_helpers, dir_project, dir_data = get_project_path.project_paths()\n",
    "\n",
    "from wavelet_helpers import *\n",
    "from sklearn_helpers import *\n",
    "from plot_helpers import *\n",
    "from data_helpers import *"
   ]
  },
  {
   "cell_type": "markdown",
   "id": "b79d2f3d-85bd-4829-9e53-37f01f38630f",
   "metadata": {},
   "source": [
    "## Setup: plots"
   ]
  },
  {
   "cell_type": "code",
   "execution_count": null,
   "id": "530d4eff-15ae-4af2-9b6e-6261ac1e4e52",
   "metadata": {},
   "outputs": [],
   "source": [
    "%matplotlib inline\n",
    "# Higher resolution figures within the notebook\n",
    "%config InlineBackend.figure_format = 'retina'\n",
    "\n",
    "# Set the plot style from the seaborn library\n",
    "sns.set_style(\"whitegrid\")\n",
    "context = 'paper'\n",
    "sns.set_context(context)\n",
    "\n",
    "# Tol bright color scheme reordered to put my favorite colors first\n",
    "tol_bright_reorder = [\n",
    "    '#4477AA',\n",
    "    '#CCBB44',\n",
    "    '#EE6677',\n",
    "    '#228833',\n",
    "    '#66CCEE',\n",
    "    '#AA3377',\n",
    "    '#BBBBBB'\n",
    "]\n",
    "sns.set_palette(sns.color_palette(tol_bright_reorder))"
   ]
  }
 ],
 "metadata": {
  "kernelspec": {
   "display_name": "Python [conda env:py39-analysis]",
   "language": "python",
   "name": "conda-env-py39-analysis-py"
  },
  "language_info": {
   "codemirror_mode": {
    "name": "ipython",
    "version": 3
   },
   "file_extension": ".py",
   "mimetype": "text/x-python",
   "name": "python",
   "nbconvert_exporter": "python",
   "pygments_lexer": "ipython3",
   "version": "3.10.6"
  }
 },
 "nbformat": 4,
 "nbformat_minor": 5
}
